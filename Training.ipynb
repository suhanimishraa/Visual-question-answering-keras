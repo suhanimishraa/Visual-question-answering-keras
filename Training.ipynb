{
 "cells": [
  {
   "cell_type": "code",
   "execution_count": null,
   "metadata": {},
   "outputs": [],
   "source": [
    "from keras.metrics import top_k_categorical_accuracy\n",
    "def top_3_accuracy(y_true, y_pred):\n",
    "    return top_k_categorical_accuracy(y_true, y_pred, k=3)\n"
   ]
  },
  {
   "cell_type": "code",
   "execution_count": null,
   "metadata": {},
   "outputs": [],
   "source": [
    "import keras\n",
    "from keras.models import Model    \n",
    "from keras.layers import *\n",
    "from keras.models import Sequential\n",
    "from keras.layers.core import Reshape, Activation, Dropout\n",
    "from keras.layers import LSTM, Dense\n",
    "from keras.utils.vis_utils import plot_model\n",
    "def VQA_MODEL():\n",
    "    \n",
    "\n",
    "    image_feature_size          = 2048\n",
    "    word_feature_size           = 300\n",
    "    number_of_LSTM              = 3\n",
    "    number_of_hidden_units_LSTM = 512\n",
    "    max_length_questions        = 30\n",
    "    number_of_dense_layers      = 3\n",
    "    number_of_hidden_units      = 1024\n",
    "    activation_function         = 'tanh'\n",
    "    dropout_pct                 = 0.5\n",
    "\n",
    "\n",
    "    # Image model\n",
    "    model_image = Sequential()\n",
    "    model_image.add(Reshape((image_feature_size,), input_shape=(image_feature_size,)))\n",
    "    model_image.add(Dense(1024, activation=activation_function))\n",
    "    \n",
    "    \n",
    "    #caption model\n",
    "    \n",
    "\n",
    "    # Language Model\n",
    "\n",
    "\n",
    "    inputs1 = Input(shape=(max_length_questions, word_feature_size))\n",
    "    lstm1,h,c = LSTM(number_of_hidden_units_LSTM, return_sequences=True,return_state=True)(inputs1)\n",
    "    lstm1,h,c = LSTM(number_of_hidden_units_LSTM, return_sequences=True,return_state=True)([lstm1,h,c])\n",
    "    lstm1,h,c = LSTM(number_of_hidden_units_LSTM, return_sequences=True,return_state=True)([lstm1,h,c])\n",
    "\n",
    "    lstm1,h,c = LSTM(number_of_hidden_units_LSTM, return_sequences=True,return_state=True)([lstm1,h,c])\n",
    "\n",
    "    lstm1,h,c = LSTM(number_of_hidden_units_LSTM, return_sequences=False,return_state=True)([lstm1,h,c])\n",
    "    #y = Lambda(lambda x: tf.keras.backend.concatenate([h,c],0))([lstm1,h,c])\n",
    "    y = Concatenate()([h,c])\n",
    "    model_language = Model(inputs=inputs1, outputs=y)\n",
    "    # combined model\n",
    "    conc = keras.layers.Multiply()([model_language.output,model_image.output])\n",
    "\n",
    "\n",
    "    out = Dense(number_of_hidden_units, activation=activation_function)(conc)\n",
    "    #out = Dropout(0.4)(out)\n",
    "\n",
    "    out = Dense(number_of_hidden_units, activation=activation_function)(out)\n",
    "    out = Dropout(0.5)(out)\n",
    "\n",
    "    out = Dense(number_of_hidden_units, activation=activation_function)(out)\n",
    "    out = Dropout(0.7)(out)\n",
    "\n",
    "\n",
    "\n",
    "\n",
    "    out = Dense(1000, activation='softmax')(out)\n",
    "\n",
    "    model_vqa = Model([model_language.input, model_image.input], out)\n",
    "\n",
    "\n",
    "    #model_vqa.summary()\n",
    "    #plot_model(model_vqa, to_file='model_vqa.png')\n",
    "\n",
    "    return model_vqa"
   ]
  },
  {
   "cell_type": "code",
   "execution_count": null,
   "metadata": {},
   "outputs": [],
   "source": [
    "def get_VQA_model():\n",
    "    \n",
    "    vqa_model = VQA_MODEL()\n",
    "\n",
    "    vqa_model.compile(loss='categorical_crossentropy', optimizer='adam',metrics=['accuracy','top_k_categorical_accuracy',top_3_accuracy])\n",
    "    return vqa_model"
   ]
  },
  {
   "cell_type": "code",
   "execution_count": null,
   "metadata": {},
   "outputs": [],
   "source": [
    "from keras.models import load_model\n",
    "model_vqa = get_VQA_model()\n",
    "model_vqa.summary()"
   ]
  },
  {
   "cell_type": "code",
   "execution_count": null,
   "metadata": {},
   "outputs": [],
   "source": [
    "import numpy as np\n",
    "\n",
    "a = np.load('imgfet_res.npy')\n",
    "b = np.load('quesfet.npy')\n",
    "l = np.load('label.npy')"
   ]
  },
  {
   "cell_type": "code",
   "execution_count": null,
   "metadata": {},
   "outputs": [],
   "source": [
    "a_train = a[0:60000]\n",
    "b_train = b[0:60000]\n",
    "l_train = l[0:60000]\n",
    "\n",
    "a_test = a[60000:]\n",
    "b_test = b[60000:]\n",
    "l_test = l[60000:]"
   ]
  },
  {
   "cell_type": "code",
   "execution_count": null,
   "metadata": {},
   "outputs": [],
   "source": [
    "############################runn################\n",
    "import keras\n",
    "from time import time\n",
    "#from keras.callbacks import TensorBoard\n",
    "\n",
    "#l = np.asarray(l)\n",
    "#tensorboard = TensorBoard(log_dir=\"logs/{}\".format(time()))\n",
    "\n",
    "train_y = keras.utils.np_utils.to_categorical(l_train,num_classes=1000)\n",
    "len(train_y[0])\n",
    "history1 = model_vqa.fit([b_train, a_train],train_y,batch_size=1000,epochs=80)\n"
   ]
  },
  {
   "cell_type": "code",
   "execution_count": null,
   "metadata": {},
   "outputs": [],
   "source": [
    "######################################################\n",
    "\n",
    "import matplotlib.pyplot as plt\n",
    "y=history.history['loss']\n",
    "x=range(0,80)\n",
    "plt.plot(x,y)\n",
    "#plt.title('top 5 accuracy')\n",
    "plt.xlabel('number of epochs')\n",
    "plt.ylabel('loss')\n",
    "plt.show\n",
    "plt.savefig('loss_normal.png',dpi=300,transparent=False)\n",
    "plt.show"
   ]
  },
  {
   "cell_type": "code",
   "execution_count": null,
   "metadata": {},
   "outputs": [],
   "source": [
    "import keras\n",
    "train_y = keras.utils.np_utils.to_categorical(l_test,num_classes=1000)\n",
    "loss,test_acc,top5,top3 = model_vqa.evaluate([b_test,a_test], train_y)\n",
    "\n",
    "print('Test accuracy:', top5)\n"
   ]
  },
  {
   "cell_type": "code",
   "execution_count": null,
   "metadata": {},
   "outputs": [],
   "source": [
    "\n",
    "# serialize model to JSON\n",
    "model_json = model_vqa.to_json()\n",
    "with open(\"model_vqa_vgg19_5layers.json\", \"w\") as json_file:\n",
    "    json_file.write(model_json)\n",
    "# serialize weights to HDF5\n",
    "model_vqa.save(\"model_vqa_vgg19_5layers.h5\")\n",
    "print(\"Saved model to disk\")"
   ]
  }
 ],
 "metadata": {
  "kernelspec": {
   "display_name": "Python 3",
   "language": "python",
   "name": "python3"
  },
  "language_info": {
   "codemirror_mode": {
    "name": "ipython",
    "version": 3
   },
   "file_extension": ".py",
   "mimetype": "text/x-python",
   "name": "python",
   "nbconvert_exporter": "python",
   "pygments_lexer": "ipython3",
   "version": "3.5.2"
  }
 },
 "nbformat": 4,
 "nbformat_minor": 2
}
